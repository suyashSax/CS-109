{
 "cells": [
  {
   "cell_type": "markdown",
   "metadata": {},
   "source": [
    "### Support Vector Machine Classification"
   ]
  },
  {
   "cell_type": "markdown",
   "metadata": {},
   "source": [
    "We will build a Support Vector Machine that will find the optimal hyperplane that maximizes the margin between two toy data classes using gradient descent.\n",
    "- As a rule of thumb, SVMs are great for relatively small data sets with fewer outliers.\n",
    "- Other algorithms (Random forests, deep neural networks, etc.) require more data but almost always come up with very robust models.\n",
    "- The decision of which classifier to use depends on your dataset and the general complexity of the problem.\n",
    "- \"Premature optimization is the root of all evil (or at least most of it) in programming.\" - Donald Knuth, CS Professor (Turing award speech 1974)"
   ]
  },
  {
   "cell_type": "code",
   "execution_count": 1,
   "metadata": {
    "collapsed": true
   },
   "outputs": [],
   "source": [
    "import numpy as np\n",
    "from matplotlib import pyplot as plt\n",
    "%matplotlib inline"
   ]
  },
  {
   "cell_type": "code",
   "execution_count": 2,
   "metadata": {
    "collapsed": true
   },
   "outputs": [],
   "source": [
    "# Sample Data\n",
    "\n",
    "# Input Space 'X': [x, y, bias]\n",
    "X = np.array([\n",
    "    [-2,4,-1],\n",
    "    [4,1,-1],\n",
    "    [1, 6, -1],\n",
    "    [2, 4, -1],\n",
    "    [6, 2, -1],\n",
    "])\n",
    "\n",
    "# Output Space 'y': binary -> +1 or -1 \n",
    "# Easier math compared to 0/1\n",
    "y = np.array([-1, -1, 1, 1, 1])"
   ]
  },
  {
   "cell_type": "code",
   "execution_count": 3,
   "metadata": {
    "collapsed": false
   },
   "outputs": [
    {
     "data": {
      "text/plain": [
       "[<matplotlib.lines.Line2D at 0x1066aa190>]"
      ]
     },
     "execution_count": 3,
     "metadata": {},
     "output_type": "execute_result"
    },
    {
     "data": {
      "image/png": "[encoded data removed]",
      "text/plain": [
       "<matplotlib.figure.Figure at 0x1065d5c50>"
      ]
     },
     "metadata": {},
     "output_type": "display_data"
    }
   ],
   "source": [
    "# Plot of both classes, through which we want to draw a hyper-plane\n",
    "for index, point in enumerate(X):\n",
    "    if index < 2:\n",
    "        plt.scatter(point[0], point[1], s=120, marker='_', c='r', linewidths=3)\n",
    "    else:\n",
    "        plt.scatter(point[0], point[1], s=120, marker='+', c='b', linewidths=3)\n",
    "\n",
    "# Naive guess hyper-plane(s)\n",
    "plt.plot([-2,6],[6,0.5], ls='--', c='g')\n",
    "plt.plot([-2,6],[4.5,0.5], ls='--', c='y')\n",
    "plt.plot([-2,6],[8,-1], ls='--', c='black')"
   ]
  },
  {
   "cell_type": "markdown",
   "metadata": {},
   "source": [
    "### So which hyper-plane should we use?\n",
    "\n",
    "**Support vectors** are the data points nearest to the hyperplane, the points of a data set that, if removed, would alter the position of the dividing hyperplane. Because of this, they can be considered the critical elements of a data set, they are what help us build our SVM. \n",
    "\n",
    "**Maximum margin classification**, i.e. the one which maximizes distance between the plane and the closest data points from each class. We want to maximize the distance to support vectors.\n",
    "![alt text](https://www.dtreg.com/uploaded/pageimg/SvmMargin2.jpg \"Logo Title Text 1\")"
   ]
  },
  {
   "cell_type": "markdown",
   "metadata": {},
   "source": [
    "### How do we find the maximum margin?\n",
    "\n",
    "#### Hinge Loss function (what to minimize)\n",
    "\n",
    "![alt text](http://i.imgur.com/OzCwzyN.png \"Logo Title Text 1\")\n",
    "\n",
    "\n",
    "c is the loss function, x the sample, y is the true label, f(x) the predicted label.\n",
    "\n",
    "![alt text](http://i.imgur.com/FZ7JcG3.png \"Logo Title Text 1\")\n",
    "\n",
    " \n",
    "#### Objective Function (what to optimize)\n",
    "\n",
    "![alt text](http://i.imgur.com/I5NNu44.png \"Logo Title Text 1\")\n",
    "\n",
    "As you can see, our objective of a SVM consists of two terms. The first term is a regularizer, the heart of the SVM, the second term the loss. The regularizer balances between margin maximization and loss. We want to find the decision surface that is maximally far away from any data points.\n",
    "\n",
    "How do we minimize our loss/optimize for our objective (i.e learn)?\n",
    "\n",
    "We have to derive our objective function to get the gradients! Gradient descent ftw.  As we have two terms, we will derive them seperately using the sum rule in differentiation.\n",
    "\n",
    "\n",
    "![alt text](http://i.imgur.com/6uK3BnH.png \"Logo Title Text 1\")\n",
    "\n",
    "This means, if we have a misclassified sample, we update the weight vector w using the gradients of both terms, else if classified correctly,we just update w by the gradient of the regularizer.\n",
    "\n",
    "\n",
    "\n",
    "Misclassification condition \n",
    "![alt text](http://i.imgur.com/g9QLAyn.png \"Logo Title Text 1\")\n",
    "\n",
    "Update rule for our weights (misclassified)\n",
    "![alt text](http://i.imgur.com/rkdPpTZ.png \"Logo Title Text 1\")\n",
    "\n",
    "including the learning rate η and the regularizer λ\n",
    "The learning rate is the length of the steps the algorithm makes down the gradient on the error curve.\n",
    "- Learning rate too high? The algorithm might overshoot the optimal point.\n",
    "- Learning rate too low? Could take too long to converge. Or never converge.\n",
    "\n",
    "The regularizer controls the trade off between the achieving a low training error and a low testing error that is the ability to generalize your classifier to unseen data. As a regulizing parameter we choose 1/epochs, so this parameter will decrease, as the number of epochs increases.\n",
    "- Regularizer too high? overfit (large testing error) \n",
    "- Regularizer too low? underfit (large training error) \n",
    "\n",
    "Update rule for our weights (correctly classified)\n",
    "\n",
    "![alt text](http://i.imgur.com/xTKbvZ6.png \"Logo Title Text 1\")\n"
   ]
  },
  {
   "cell_type": "code",
   "execution_count": 4,
   "metadata": {
    "collapsed": true
   },
   "outputs": [],
   "source": [
    "# Stochastic gradient descent optimization\n",
    "def svm_optimize(X, y):\n",
    "    # Weights to solve for\n",
    "    w = np.zeros(len(X[0]))\n",
    "    # Learning rate\n",
    "    eta = 1\n",
    "    # Training iterations\n",
    "    iters = 100000\n",
    "    # Misclassification log\n",
    "    errs = []\n",
    "    \n",
    "    for it in range(1, iters):\n",
    "        err = 0\n",
    "        lam = 1.0/it\n",
    "        for i, x in enumerate(X):\n",
    "            # Misclassification\n",
    "            if (y[i]*np.dot(X[i], w) < 1):\n",
    "                # Update using regularizer and loss function \n",
    "                w = w + eta * ((X[i] * y[i]) + (-2  * lam * w))\n",
    "                err = 1\n",
    "            else:\n",
    "                # Correct classification update using just regularizer\n",
    "                w = w + eta * (-2  * lam * w)\n",
    "        errs.append(err)\n",
    "        \n",
    "    # Plot errors in SVM training\n",
    "    plt.plot(errs, '|')\n",
    "    plt.ylim(0.5,1.5)\n",
    "    plt.axes().set_yticklabels([])\n",
    "    plt.xlabel('Iteration')\n",
    "    plt.ylabel('Misclassified')\n",
    "    plt.show()\n",
    "    return w"
   ]
  },
  {
   "cell_type": "code",
   "execution_count": 5,
   "metadata": {
    "collapsed": false
   },
   "outputs": [
    {
     "data": {
      "image/png": "[encoded data removed]",
      "text/plain": [
       "<matplotlib.figure.Figure at 0x103c53ad0>"
      ]
     },
     "metadata": {},
     "output_type": "display_data"
    },
    {
     "name": "stdout",
     "output_type": "stream",
     "text": [
      "Weights: [  1.58876117   3.17458055  11.11863105]\n"
     ]
    }
   ],
   "source": [
    "w = svm_optimize(X, y)\n",
    "print \"Weights:\", w"
   ]
  },
  {
   "cell_type": "markdown",
   "metadata": {},
   "source": [
    "**Misclassifications decrease w/ further iterations!**"
   ]
  },
  {
   "cell_type": "code",
   "execution_count": 6,
   "metadata": {
    "collapsed": false
   },
   "outputs": [
    {
     "data": {
      "text/plain": [
       "<matplotlib.quiver.Quiver at 0x106894f90>"
      ]
     },
     "execution_count": 6,
     "metadata": {},
     "output_type": "execute_result"
    },
    {
     "data": {
      "image/png": "[encoded data removed]",
      "text/plain": [
       "<matplotlib.figure.Figure at 0x102121850>"
      ]
     },
     "metadata": {},
     "output_type": "display_data"
    }
   ],
   "source": [
    "for index, point in enumerate(X):\n",
    "    if index < 2:\n",
    "        plt.scatter(point[0], point[1], s=120, marker='_', c='r', linewidths=3)\n",
    "    else:\n",
    "        plt.scatter(point[0], point[1], s=120, marker='+', c='b', linewidths=3)\n",
    "\n",
    "# Add test samples \n",
    "plt.scatter(2,2, s=120, marker='_', linewidths=3, color='black')\n",
    "plt.scatter(4,3, s=120, marker='+', linewidths=3, color='black')\n",
    "\n",
    "# Print the hyperplane calculated by svm_sgd()\n",
    "x2= [w[0],w[1],-w[1],w[0]]\n",
    "x3= [w[0],w[1],w[1],-w[0]]\n",
    "\n",
    "x2x3 = np.array([x2,x3])\n",
    "X,Y,U,V = zip(*x2x3)\n",
    "ax = plt.gca()\n",
    "ax.quiver(X,Y,U,V,scale=1, color='g')"
   ]
  }
 ],
 "metadata": {
  "kernelspec": {
   "display_name": "Python [Root]",
   "language": "python",
   "name": "Python [Root]"
  },
  "language_info": {
   "codemirror_mode": {
    "name": "ipython",
    "version": 2
   },
   "file_extension": ".py",
   "mimetype": "text/x-python",
   "name": "python",
   "nbconvert_exporter": "python",
   "pygments_lexer": "ipython2",
   "version": "2.7.12"
  }
 },
 "nbformat": 4,
 "nbformat_minor": 0
}
